{
 "cells": [
  {
   "cell_type": "code",
   "execution_count": 3,
   "metadata": {},
   "outputs": [
    {
     "data": {
      "text/plain": [
       "131072"
      ]
     },
     "execution_count": 3,
     "metadata": {},
     "output_type": "execute_result"
    }
   ],
   "source": [
    "import os\n",
    "import csv\n",
    "from collections import namedtuple\n",
    "\n",
    "# increase field size limit as the csv file being processed is about 1.5GB\n",
    "csv.field_size_limit(500 * 1024 * 1024)"
   ]
  },
  {
   "cell_type": "code",
   "execution_count": null,
   "metadata": {
    "collapsed": true
   },
   "outputs": [],
   "source": [
    "# geonames fields\n",
    "Country = namedtuple('Country','geonameid, name, asciiname, alternatenames, latitude, longitude, featureclass, featurecode, countrycode, cc2, admin1code, admin2code, admin3code, admin4code, population, elevation, dem, timezone, modificationdate')                  \n",
    "\n",
    "# list of feature codes to be extracted and written to a new file \n",
    "code_list = ['ADM1', 'ADM1H', 'ADM2', 'ADM2H', 'ADM3', 'ADM3H', 'ADM4', 'ADM4H', 'ADM5', 'ADMD', 'ADMDH', 'LTER', 'PCL', 'PCLD', 'PCLF', 'PCLH', 'PCLI', 'PCLIX', 'PCLS', 'PRSH', 'TERR', 'ZN', 'ZNB', 'PPL', 'PPLA', 'PPLA2', 'PPLA3', 'PPLA4', 'PPLC', 'PPLCH', 'PPLF', 'PPLG', 'PPLH', 'PPLL', 'PPLQ', 'PPLR', 'PPLS', 'PPLW', 'PPLX', 'STLMT']"
   ]
  },
  {
   "cell_type": "code",
   "execution_count": null,
   "metadata": {},
   "outputs": [],
   "source": [
    "# initialize country_code\n",
    "last_country_code = \"\"\n",
    "\n",
    "# allCountries.txt downloaded from http://download.geonames.org/export/dump/allCountries.zip\n",
    "for country in map(Country._make, csv.reader(open(os.getcwd() + '\\\\data\\\\allCountries.txt', mode='r', encoding='utf-8'), delimiter='\\t')):\n",
    "    if (country.featurecode in code_list):\n",
    "        if country.countrycode != last_country_code:\n",
    "            if last_country_code != \"\":\n",
    "                f.close()\n",
    "            \n",
    "            # filename for the new extract\n",
    "            f=open(os.getcwd() + '\\\\data\\\\' + country.countrycode + '.json', mode='w', encoding='utf-8')        \n",
    "                \n",
    "        if country.name.find(\"(\") > 0:\n",
    "            country_name = country.name[:(country.name.find(\"(\")-1)]\n",
    "        else:\n",
    "            country_name = country.name\n",
    "        \n",
    "        f.write('{\"index\":{\"_id\":\"'+ country.geonameid +'\"}}\\n')\n",
    "        f.write('{\"geonameid\":' + country.geonameid + ',\"name\":\"' + country_name + '\",\"asciiname\":\"' + country.asciiname + '\",\"alternatenames\":\"' + country.alternatenames  + '\",\"latitude\":\"' + country.latitude + '\",\"longitude\":\"' + country.longitude + '\",\"featureclass\":\"' + country.featureclass + '\",\"featurecode\":\"' + country.featurecode + '\",\"countrycode\":\"' + country.countrycode + '\",\"cc2\":\"' + country.cc2 + '\",\"admin1code\":\"' + country.admin1code + '\",\"admin2code\":\"' + country.admin2code + '\",\"admin3code\":\"' + country.admin3code + '\",\"admin4code\":\"' + country.admin4code + '\",\"population\":\"' + country.population + '\",\"elevation\":\"' + country.elevation + '\",\"dem\":\"' + country.dem + '\",\"timezone\":\"' + country.timezone + '\",\"modificationdate\":\"' + country.modificationdate + '\"}\\n')\n",
    "        \n",
    "        last_country_code = country.countrycode\n",
    "        \n",
    "f.close()"
   ]
  }
 ],
 "metadata": {
  "kernelspec": {
   "display_name": "rasa-test",
   "language": "python",
   "name": "rasa-test"
  },
  "language_info": {
   "codemirror_mode": {
    "name": "ipython",
    "version": 3
   },
   "file_extension": ".py",
   "mimetype": "text/x-python",
   "name": "python",
   "nbconvert_exporter": "python",
   "pygments_lexer": "ipython3",
   "version": "3.6.3"
  }
 },
 "nbformat": 4,
 "nbformat_minor": 2
}
