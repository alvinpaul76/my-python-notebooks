{
 "cells": [
  {
   "cell_type": "code",
   "execution_count": 13,
   "metadata": {},
   "outputs": [],
   "source": [
    "from sklearn.feature_extraction.stop_words import ENGLISH_STOP_WORDS as STOPWORDS\n",
    "from sklearn.feature_extraction.text import CountVectorizer\n",
    "from sklearn.metrics import accuracy_score\n",
    "from sklearn.base import TransformerMixin\n",
    "from sklearn.pipeline import Pipeline\n",
    "from sklearn.svm import LinearSVC\n",
    "\n",
    "import spacy\n",
    "import string\n",
    "\n",
    "punctuations = string.punctuation\n",
    "parser = spacy.load('en')\n",
    "\n",
    "\n",
    "# Custom transformer using spaCy\n",
    "class Predictors(TransformerMixin):\n",
    "    def transform(self, X, **transform_params):\n",
    "        return [clean_text(text) for text in X]\n",
    "\n",
    "    def fit(self, X, y=None, **fit_params):\n",
    "        return self\n",
    "\n",
    "    def get_params(self, deep=True):\n",
    "        return {}\n",
    "\n",
    "\n",
    "# Basic utility function to clean the text\n",
    "def clean_text(text):\n",
    "    return text.strip().lower()"
   ]
  },
  {
   "cell_type": "code",
   "execution_count": 14,
   "metadata": {},
   "outputs": [],
   "source": [
    "# Create spacy tokenizer that parses a sentence and generates tokens\n",
    "# these can also be replaced by word vectors\n",
    "def spacy_tokenizer(sentence):\n",
    "    tokens = parser(sentence)\n",
    "    tokens = [tok.lemma_.lower().strip() if tok.lemma_ != \"-PRON-\" else tok.lower_ for tok in tokens]\n",
    "    tokens = [tok for tok in tokens if (tok not in STOPWORDS and tok not in punctuations)]\n",
    "    return tokens\n",
    "\n",
    "\n",
    "# Create vectorizer object to generate feature vectors, we will use custom spacy’s tokenizer\n",
    "vectorizer = CountVectorizer(tokenizer=spacy_tokenizer, ngram_range=(1,1))\n",
    "classifier = LinearSVC()"
   ]
  },
  {
   "cell_type": "code",
   "execution_count": 15,
   "metadata": {},
   "outputs": [
    {
     "name": "stdout",
     "output_type": "stream",
     "text": [
      "('I live in New York', 'pos') neg\n",
      "('I was born in Singapore', 'neg') neg\n",
      "(\"I don't have a U.S. account\", 'neg') neg\n",
      "('We reside in the U.S.', 'pos') pos\n",
      "('My wife was born in New York but now lives in Singapore.', 'pos') neg\n",
      "('My dad is not a U.S. citizen', 'neg') neg\n",
      "Accuracy: 0.6666666666666666\n"
     ]
    }
   ],
   "source": [
    "# Create the  pipeline to clean, tokenize, vectorize, and classify\n",
    "pipe = Pipeline([(\"cleaner\", Predictors()),\n",
    "                 ('vectorizer', vectorizer),\n",
    "                 ('classifier', classifier)])\n",
    "\n",
    "# Load sample data\n",
    "train = [('I was born in the New York but I am now residing in Singapore.', 'pos'),\n",
    "         ('I am a U.S. resident.', 'pos'),\n",
    "         ('I am a U.S. green card holder. ', 'pos'),\n",
    "         ('We stay in Texas most of the time.', 'pos'),\n",
    "         ('My dad is a U.S. citizen.', 'pos'),\n",
    "         ('I was not born in the U.S.', 'neg'),\n",
    "         ('My Singapore number is 97372309', 'neg'),\n",
    "         (\"I have not been to New York\", 'neg'),\n",
    "         ('My dad is not a U.S. citizen', 'neg'),\n",
    "         ('My hold mail address is in Hongkong' , 'neg')]\n",
    "test = [('I live in New York', 'pos'),\n",
    "        ('I was born in Singapore', 'neg'),\n",
    "        (\"I don't have a U.S. account\", 'neg'),\n",
    "        (\"We reside in the U.S.\", 'pos'),\n",
    "        ('My wife was born in New York but now lives in Singapore.', 'pos'),\n",
    "        (\"My dad is not a U.S. citizen\", 'neg')]\n",
    "\n",
    "# Create model and measure accuracy\n",
    "pipe.fit([x[0] for x in train], [x[1] for x in train])\n",
    "pred_data = pipe.predict([x[0] for x in test])\n",
    "for (sample, pred) in zip(test, pred_data):\n",
    "    print(sample, pred)\n",
    "\n",
    "print(\"Accuracy:\", accuracy_score([x[1] for x in test], pred_data))"
   ]
  }
 ],
 "metadata": {
  "kernelspec": {
   "display_name": "rasa-test",
   "language": "python",
   "name": "rasa-test"
  },
  "language_info": {
   "codemirror_mode": {
    "name": "ipython",
    "version": 3
   },
   "file_extension": ".py",
   "mimetype": "text/x-python",
   "name": "python",
   "nbconvert_exporter": "python",
   "pygments_lexer": "ipython3",
   "version": "3.6.3"
  }
 },
 "nbformat": 4,
 "nbformat_minor": 2
}
