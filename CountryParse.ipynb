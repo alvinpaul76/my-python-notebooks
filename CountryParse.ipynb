{
 "cells": [
  {
   "cell_type": "code",
   "execution_count": 6,
   "metadata": {},
   "outputs": [
    {
     "data": {
      "text/plain": [
       "524288000"
      ]
     },
     "execution_count": 6,
     "metadata": {},
     "output_type": "execute_result"
    }
   ],
   "source": [
    "import csv\n",
    "from collections import namedtuple\n",
    "\n",
    "# increase field size limit as the csv file being processed is about 1.5GB\n",
    "csv.field_size_limit(500 * 1024 * 1024)"
   ]
  },
  {
   "cell_type": "code",
   "execution_count": 7,
   "metadata": {
    "collapsed": true
   },
   "outputs": [],
   "source": [
    "# geonames fields\n",
    "Country = namedtuple('Country','geonameid, name, asciiname, alternatenames, latitude, longitude, featureclass, featurecode, countrycode, cc2, admin1code, admin2code, admin3code, admin4code, population, elevation, dem, timezone, modificationdate')                  \n",
    "\n",
    "# list of feature codes to be extracted and written to a new file \n",
    "code_list = ['ADM1', 'ADM1H', 'ADM2', 'ADM2H', 'ADM3', 'ADM3H', 'ADM4', 'ADM4H', 'ADM5', 'ADMD', 'ADMDH', 'LTER', 'PCL', 'PCLD', 'PCLF', 'PCLH', 'PCLI', 'PCLIX', 'PCLS', 'PRSH', 'TERR', 'ZN', 'ZNB', 'PPL', 'PPLA', 'PPLA2', 'PPLA3', 'PPLA4', 'PPLC', 'PPLCH', 'PPLF', 'PPLG', 'PPLH', 'PPLL', 'PPLQ', 'PPLR', 'PPLS', 'PPLW', 'PPLX', 'STLMT']"
   ]
  },
  {
   "cell_type": "code",
   "execution_count": 8,
   "metadata": {
    "collapsed": true
   },
   "outputs": [],
   "source": [
    "# filename for the new extract\n",
    "f=open('newAllCountries.txt', mode='w', encoding='utf-8')\n",
    "\n",
    "# allCountries.txt downloaded from http://download.geonames.org/export/dump/allCountries.zip\n",
    "for country in map(Country._make, csv.reader(open('allCountries.txt', mode='r', encoding='utf-8'), delimiter='\\t')):\n",
    "    if (country.featurecode in code_list):\n",
    "        f.write(country.geonameid + '\\t' + country.name + '\\t' + country.asciiname + '\\t' + country.alternatenames + '\\t' + country.latitude + '\\t' + country.longitude + '\\t' + country.featureclass + '\\t' + country.featurecode + '\\t' + country.countrycode + '\\t' + country.cc2 + '\\t' + country.admin1code + '\\t' + country.admin2code + '\\t' + country.admin3code + '\\t' + country.admin4code + '\\t' + country.population + '\\t' + country.elevation + '\\t' + country.dem + '\\t' + country.timezone + '\\t' + country.modificationdate + '\\n')\n",
    "\n",
    "f.close()"
   ]
  }
 ],
 "metadata": {
  "kernelspec": {
   "display_name": "Python 3",
   "language": "python",
   "name": "python3"
  },
  "language_info": {
   "codemirror_mode": {
    "name": "ipython",
    "version": 3
   },
   "file_extension": ".py",
   "mimetype": "text/x-python",
   "name": "python",
   "nbconvert_exporter": "python",
   "pygments_lexer": "ipython3",
   "version": "3.6.3"
  }
 },
 "nbformat": 4,
 "nbformat_minor": 2
}
